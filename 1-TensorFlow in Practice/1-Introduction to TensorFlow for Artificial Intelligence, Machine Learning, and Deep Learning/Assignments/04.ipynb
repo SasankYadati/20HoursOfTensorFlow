{
  "cells": [
    {
      "cell_type": "code",
      "metadata": {
        "id": "A7DwWMEI4I6O",
        "colab_type": "code",
        "colab": {
          "base_uri": "https://localhost:8080/",
          "height": 217
        },
        "outputId": "0d464b1d-8c34-4945-a761-92639407d926"
      },
      "source": [
        "import tensorflow as tf\n",
        "import os\n",
        "import zipfile\n",
        "\n",
        "DESIRED_ACCURACY = 0.999\n",
        "!wget --no-check-certificate \"https://storage.googleapis.com/laurencemoroney-blog.appspot.com/happy-or-sad.zip\" -O \"/tmp/happy-or-sad.zip\"\n",
        "\n",
        "zip_ref = zipfile.ZipFile(\"/tmp/happy-or-sad.zip\", 'r')\n",
        "zip_ref.extractall(\"/tmp/h-or-s\")\n",
        "zip_ref.close()"
      ],
      "execution_count": 8,
      "outputs": [
        {
          "output_type": "stream",
          "text": [
            "--2020-06-08 04:39:39--  https://storage.googleapis.com/laurencemoroney-blog.appspot.com/happy-or-sad.zip\n",
            "Resolving storage.googleapis.com (storage.googleapis.com)... 74.125.20.128, 2607:f8b0:400e:c09::80\n",
            "Connecting to storage.googleapis.com (storage.googleapis.com)|74.125.20.128|:443... connected.\n",
            "HTTP request sent, awaiting response... 200 OK\n",
            "Length: 2670333 (2.5M) [application/zip]\n",
            "Saving to: ‘/tmp/happy-or-sad.zip’\n",
            "\n",
            "\r/tmp/happy-or-sad.z   0%[                    ]       0  --.-KB/s               \r/tmp/happy-or-sad.z 100%[===================>]   2.55M  --.-KB/s    in 0.01s   \n",
            "\n",
            "2020-06-08 04:39:39 (221 MB/s) - ‘/tmp/happy-or-sad.zip’ saved [2670333/2670333]\n",
            "\n"
          ],
          "name": "stdout"
        }
      ]
    },
    {
      "cell_type": "code",
      "metadata": {
        "id": "W4PNqzsr8UsQ",
        "colab_type": "code",
        "colab": {}
      },
      "source": [
        "from tensorflow.keras.callbacks import Callback\n",
        "class PerfCallback(Callback):\n",
        "  def on_epoch_end(self, epoch, logs={}):\n",
        "    if(logs.get('accuracy') > DESIRED_ACCURACY):\n",
        "      self.model.stop_training = True\n",
        "callback = PerfCallback()"
      ],
      "execution_count": 0,
      "outputs": []
    },
    {
      "cell_type": "code",
      "metadata": {
        "id": "0Jo53zwqMBfv",
        "colab_type": "code",
        "colab": {
          "base_uri": "https://localhost:8080/",
          "height": 490
        },
        "outputId": "7aabba21-73e8-4418-dd3e-702fe6af4eeb"
      },
      "source": [
        "from tensorflow.keras.optimizers import RMSprop\n",
        "model = tf.keras.models.Sequential([\n",
        "                                    tf.keras.layers.Conv2D(64, (3,3), activation='relu', input_shape=(150,150,3)),\n",
        "                                    tf.keras.layers.MaxPooling2D(2,2),\n",
        "                                    tf.keras.layers.Conv2D(32, (3,3), activation='relu'),\n",
        "                                    tf.keras.layers.MaxPooling2D(2,2),\n",
        "                                    tf.keras.layers.Conv2D(32, (3,3), activation='relu'),\n",
        "                                    tf.keras.layers.MaxPooling2D(2,2),\n",
        "                                    tf.keras.layers.Flatten(),\n",
        "                                    tf.keras.layers.Dense(128, activation='relu'),\n",
        "                                    tf.keras.layers.Dense(1, activation='sigmoid')\n",
        "])\n",
        "model.summary()\n",
        "model.compile(loss=\"binary_crossentropy\", optimizer=RMSprop(lr=0.001), metrics=['accuracy'])"
      ],
      "execution_count": 21,
      "outputs": [
        {
          "output_type": "stream",
          "text": [
            "Model: \"sequential_6\"\n",
            "_________________________________________________________________\n",
            "Layer (type)                 Output Shape              Param #   \n",
            "=================================================================\n",
            "conv2d_18 (Conv2D)           (None, 148, 148, 64)      1792      \n",
            "_________________________________________________________________\n",
            "max_pooling2d_18 (MaxPooling (None, 74, 74, 64)        0         \n",
            "_________________________________________________________________\n",
            "conv2d_19 (Conv2D)           (None, 72, 72, 32)        18464     \n",
            "_________________________________________________________________\n",
            "max_pooling2d_19 (MaxPooling (None, 36, 36, 32)        0         \n",
            "_________________________________________________________________\n",
            "conv2d_20 (Conv2D)           (None, 34, 34, 32)        9248      \n",
            "_________________________________________________________________\n",
            "max_pooling2d_20 (MaxPooling (None, 17, 17, 32)        0         \n",
            "_________________________________________________________________\n",
            "flatten_6 (Flatten)          (None, 9248)              0         \n",
            "_________________________________________________________________\n",
            "dense_12 (Dense)             (None, 128)               1183872   \n",
            "_________________________________________________________________\n",
            "dense_13 (Dense)             (None, 1)                 129       \n",
            "=================================================================\n",
            "Total params: 1,213,505\n",
            "Trainable params: 1,213,505\n",
            "Non-trainable params: 0\n",
            "_________________________________________________________________\n"
          ],
          "name": "stdout"
        }
      ]
    },
    {
      "cell_type": "code",
      "metadata": {
        "id": "A3U6RySUNKUl",
        "colab_type": "code",
        "colab": {
          "base_uri": "https://localhost:8080/",
          "height": 35
        },
        "outputId": "7be872bc-6853-4345-fb5f-da41535612af"
      },
      "source": [
        "from tensorflow.keras.preprocessing.image import ImageDataGenerator\n",
        "train_datagen = ImageDataGenerator(rescale=1./255)\n",
        "train_generator = train_datagen.flow_from_directory(\n",
        "    '/tmp/h-or-s',\n",
        "    target_size=(150,150),\n",
        "    batch_size=32,\n",
        "    class_mode='binary'\n",
        ")"
      ],
      "execution_count": 22,
      "outputs": [
        {
          "output_type": "stream",
          "text": [
            "Found 80 images belonging to 2 classes.\n"
          ],
          "name": "stdout"
        }
      ]
    },
    {
      "cell_type": "code",
      "metadata": {
        "id": "ZJM2QfrON0r2",
        "colab_type": "code",
        "colab": {
          "base_uri": "https://localhost:8080/",
          "height": 635
        },
        "outputId": "7f04597e-599a-4d92-b064-d55f1fafadda"
      },
      "source": [
        "history = model.fit(train_generator, epochs=30, verbose=1, callbacks=[callback])"
      ],
      "execution_count": 23,
      "outputs": [
        {
          "output_type": "stream",
          "text": [
            "Epoch 1/30\n",
            "3/3 [==============================] - 0s 53ms/step - loss: 1.6066 - accuracy: 0.5500\n",
            "Epoch 2/30\n",
            "3/3 [==============================] - 0s 25ms/step - loss: 0.6893 - accuracy: 0.5000\n",
            "Epoch 3/30\n",
            "3/3 [==============================] - 0s 27ms/step - loss: 0.6561 - accuracy: 0.7000\n",
            "Epoch 4/30\n",
            "3/3 [==============================] - 0s 25ms/step - loss: 0.5825 - accuracy: 0.8500\n",
            "Epoch 5/30\n",
            "3/3 [==============================] - 0s 29ms/step - loss: 0.6482 - accuracy: 0.5250\n",
            "Epoch 6/30\n",
            "3/3 [==============================] - 0s 25ms/step - loss: 0.3941 - accuracy: 0.7875\n",
            "Epoch 7/30\n",
            "3/3 [==============================] - 0s 27ms/step - loss: 0.4554 - accuracy: 0.7625\n",
            "Epoch 8/30\n",
            "3/3 [==============================] - 0s 26ms/step - loss: 0.2012 - accuracy: 0.9250\n",
            "Epoch 9/30\n",
            "3/3 [==============================] - 0s 28ms/step - loss: 0.1589 - accuracy: 0.9625\n",
            "Epoch 10/30\n",
            "3/3 [==============================] - 0s 36ms/step - loss: 0.1327 - accuracy: 0.9625\n",
            "Epoch 11/30\n",
            "3/3 [==============================] - 0s 27ms/step - loss: 0.0948 - accuracy: 0.9750\n",
            "Epoch 12/30\n",
            "3/3 [==============================] - 0s 39ms/step - loss: 0.3337 - accuracy: 0.8625\n",
            "Epoch 13/30\n",
            "3/3 [==============================] - 0s 38ms/step - loss: 0.1081 - accuracy: 0.9375\n",
            "Epoch 14/30\n",
            "3/3 [==============================] - 0s 29ms/step - loss: 0.0704 - accuracy: 0.9875\n",
            "Epoch 15/30\n",
            "3/3 [==============================] - 0s 37ms/step - loss: 0.0976 - accuracy: 0.9750\n",
            "Epoch 16/30\n",
            "3/3 [==============================] - 0s 29ms/step - loss: 0.0606 - accuracy: 0.9750\n",
            "Epoch 17/30\n",
            "3/3 [==============================] - 0s 27ms/step - loss: 0.0514 - accuracy: 1.0000\n"
          ],
          "name": "stdout"
        }
      ]
    },
    {
      "cell_type": "code",
      "metadata": {
        "id": "WRkEDfnUOoOo",
        "colab_type": "code",
        "colab": {}
      },
      "source": [
        ""
      ],
      "execution_count": 0,
      "outputs": []
    }
  ],
  "metadata": {
    "colab": {
      "name": "04.ipynb",
      "provenance": [],
      "collapsed_sections": []
    },
    "kernelspec": {
      "name": "python3",
      "display_name": "Python 3"
    },
    "accelerator": "GPU"
  },
  "nbformat": 4,
  "nbformat_minor": 0
}