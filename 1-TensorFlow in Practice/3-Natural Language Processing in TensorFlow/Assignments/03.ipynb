{
  "nbformat": 4,
  "nbformat_minor": 0,
  "metadata": {
    "colab": {
      "name": "03.ipynb",
      "provenance": [],
      "collapsed_sections": []
    },
    "kernelspec": {
      "name": "python3",
      "display_name": "Python 3"
    }
  },
  "cells": [
    {
      "cell_type": "code",
      "metadata": {
        "id": "gn4vEkvsjaci",
        "colab_type": "code",
        "colab": {}
      },
      "source": [
        "import json\n",
        "import tensorflow as tf\n",
        "import csv\n",
        "import random\n",
        "import numpy as np\n",
        "\n",
        "from tensorflow.keras.preprocessing.text import Tokenizer\n",
        "from tensorflow.keras.preprocessing.sequence import pad_sequences\n",
        "from tensorflow.keras.utils import to_categorical\n",
        "from tensorflow.keras import regularizers"
      ],
      "execution_count": 1,
      "outputs": []
    },
    {
      "cell_type": "code",
      "metadata": {
        "id": "S_Z2DSFCkBWZ",
        "colab_type": "code",
        "colab": {}
      },
      "source": [
        "embedding_dim = 100\n",
        "max_length = 16\n",
        "trunc_type = 'post'\n",
        "padding_type = 'post'\n",
        "oov_tok = \"<OOV>\"\n",
        "training_size = 160000\n",
        "test_portion = 0.1\n",
        "corpus = []"
      ],
      "execution_count": 2,
      "outputs": []
    },
    {
      "cell_type": "code",
      "metadata": {
        "id": "-Vx2qDaZkYwJ",
        "colab_type": "code",
        "colab": {
          "base_uri": "https://localhost:8080/",
          "height": 232
        },
        "outputId": "196ab926-af8c-4a7f-b55c-1ab119495826"
      },
      "source": [
        "!wget --no-check-certificate https://storage.googleapis.com/laurencemoroney-blog.appspot.com/training_cleaned.csv -O /tmp/training_cleaned.csv"
      ],
      "execution_count": 3,
      "outputs": [
        {
          "output_type": "stream",
          "text": [
            "--2020-08-05 13:54:22--  https://storage.googleapis.com/laurencemoroney-blog.appspot.com/training_cleaned.csv\n",
            "Resolving storage.googleapis.com (storage.googleapis.com)... 173.194.203.128, 74.125.20.128, 74.125.142.128, ...\n",
            "Connecting to storage.googleapis.com (storage.googleapis.com)|173.194.203.128|:443... connected.\n",
            "HTTP request sent, awaiting response... 200 OK\n",
            "Length: 238942690 (228M) [application/octet-stream]\n",
            "Saving to: ‘/tmp/training_cleaned.csv’\n",
            "\n",
            "/tmp/training_clean 100%[===================>] 227.87M   109MB/s    in 2.1s    \n",
            "\n",
            "2020-08-05 13:54:24 (109 MB/s) - ‘/tmp/training_cleaned.csv’ saved [238942690/238942690]\n",
            "\n"
          ],
          "name": "stdout"
        }
      ]
    },
    {
      "cell_type": "code",
      "metadata": {
        "id": "7Ya1EFMukca4",
        "colab_type": "code",
        "colab": {}
      },
      "source": [
        "num_sentences = 0\n",
        "\n",
        "with open(\"/tmp/training_cleaned.csv\") as csvfile:\n",
        "  reader = csv.reader(csvfile, delimiter=',')\n",
        "  for row in reader:\n",
        "    list_item = []\n",
        "    list_item.append(row[5])\n",
        "    if row[0] == '0':\n",
        "      list_item.append(0)\n",
        "    else:\n",
        "      list_item.append(1)\n",
        "    num_sentences = num_sentences + 1\n",
        "    corpus.append(list_item)"
      ],
      "execution_count": 4,
      "outputs": []
    },
    {
      "cell_type": "code",
      "metadata": {
        "id": "LQ6XXQtLlBxg",
        "colab_type": "code",
        "colab": {
          "base_uri": "https://localhost:8080/",
          "height": 90
        },
        "outputId": "6b665a0d-7c2d-4aba-9a1d-79fa0fc5db59"
      },
      "source": [
        "print(num_sentences)\n",
        "print(len(corpus))\n",
        "print(corpus[1])"
      ],
      "execution_count": 5,
      "outputs": [
        {
          "output_type": "stream",
          "text": [
            "1600000\n",
            "1600000\n",
            "[\"is upset that he can't update his Facebook by texting it... and might cry as a result  School today also. Blah!\", 0]\n"
          ],
          "name": "stdout"
        }
      ]
    },
    {
      "cell_type": "code",
      "metadata": {
        "id": "YrJ8-oF5lKmB",
        "colab_type": "code",
        "colab": {}
      },
      "source": [
        "sentences = []\n",
        "labels = []\n",
        "random.shuffle(corpus)\n",
        "for x in range(training_size):\n",
        "  sentences.append(corpus[x][0])\n",
        "  labels.append(corpus[x][1])\n",
        "\n",
        "tokenizer = Tokenizer()\n",
        "tokenizer.fit_on_texts(sentences)\n",
        "\n",
        "word_index = tokenizer.word_index\n",
        "vocab_size = len(word_index)\n",
        "\n",
        "sequences = tokenizer.texts_to_sequences(sentences)\n",
        "padded = pad_sequences(sequences, maxlen=max_length, padding=padding_type, truncating=trunc_type)\n",
        "\n",
        "split = int(test_portion * training_size)\n",
        "\n",
        "test_sequences = padded[0:split]\n",
        "training_sequences = padded[split:training_size]\n",
        "test_labels = labels[0:split]\n",
        "training_labels = labels[split:training_size]"
      ],
      "execution_count": 6,
      "outputs": []
    },
    {
      "cell_type": "code",
      "metadata": {
        "id": "bydBPvnFmYMC",
        "colab_type": "code",
        "colab": {
          "base_uri": "https://localhost:8080/",
          "height": 52
        },
        "outputId": "28dd377c-9989-49aa-8009-153fc351c6aa"
      },
      "source": [
        "print(vocab_size)\n",
        "print(word_index['i'])"
      ],
      "execution_count": 7,
      "outputs": [
        {
          "output_type": "stream",
          "text": [
            "139008\n",
            "1\n"
          ],
          "name": "stdout"
        }
      ]
    },
    {
      "cell_type": "code",
      "metadata": {
        "id": "Vx5p9qswmdrU",
        "colab_type": "code",
        "colab": {
          "base_uri": "https://localhost:8080/",
          "height": 232
        },
        "outputId": "b10321fe-24a3-4eab-a543-67a4e15574a1"
      },
      "source": [
        "# download GloVe embeddings from Stanford\n",
        "!wget --no-check-certificate https://storage.googleapis.com/laurencemoroney-blog.appspot.com/glove.6B.100d.txt -O /tmp/glove.6B.100d.txt\n",
        "embeddings_index = {}\n",
        "\n",
        "with open('/tmp/glove.6B.100d.txt') as f:\n",
        "  for line in f:\n",
        "    values = line.split()\n",
        "    word = values[0]\n",
        "    coefs = np.asarray(values[1:], dtype='float32')\n",
        "    embeddings_index[word] = coefs\n",
        "\n",
        "embeddings_matrix = np.zeros((vocab_size+1, embedding_dim))\n",
        "for word, i in word_index.items():\n",
        "  embedding_vector = embeddings_index.get(word)\n",
        "  if embedding_vector is not None:\n",
        "    embeddings_matrix[i] = embedding_vector"
      ],
      "execution_count": 8,
      "outputs": [
        {
          "output_type": "stream",
          "text": [
            "--2020-08-05 13:54:52--  https://storage.googleapis.com/laurencemoroney-blog.appspot.com/glove.6B.100d.txt\n",
            "Resolving storage.googleapis.com (storage.googleapis.com)... 173.194.203.128, 74.125.20.128, 74.125.142.128, ...\n",
            "Connecting to storage.googleapis.com (storage.googleapis.com)|173.194.203.128|:443... connected.\n",
            "HTTP request sent, awaiting response... 200 OK\n",
            "Length: 347116733 (331M) [text/plain]\n",
            "Saving to: ‘/tmp/glove.6B.100d.txt’\n",
            "\n",
            "/tmp/glove.6B.100d. 100%[===================>] 331.04M   196MB/s    in 1.7s    \n",
            "\n",
            "2020-08-05 13:54:54 (196 MB/s) - ‘/tmp/glove.6B.100d.txt’ saved [347116733/347116733]\n",
            "\n"
          ],
          "name": "stdout"
        }
      ]
    },
    {
      "cell_type": "code",
      "metadata": {
        "id": "-IGpLopA5dOx",
        "colab_type": "code",
        "colab": {
          "base_uri": "https://localhost:8080/",
          "height": 35
        },
        "outputId": "0b5b6866-3e6f-41b1-fc67-3a3b0fdc9287"
      },
      "source": [
        "print(len(embeddings_matrix))"
      ],
      "execution_count": 9,
      "outputs": [
        {
          "output_type": "stream",
          "text": [
            "139009\n"
          ],
          "name": "stdout"
        }
      ]
    },
    {
      "cell_type": "code",
      "metadata": {
        "id": "MTG9_lYj6Nyo",
        "colab_type": "code",
        "colab": {
          "base_uri": "https://localhost:8080/",
          "height": 1000
        },
        "outputId": "45a49cb2-c0e3-48d1-e96a-70d66a1eb969"
      },
      "source": [
        "model = tf.keras.Sequential([\n",
        "  tf.keras.layers.Embedding(vocab_size+1, embedding_dim, input_length=max_length, weights=[embeddings_matrix], trainable=False),\n",
        "  tf.keras.layers.Dropout(0.2),\n",
        "  tf.keras.layers.Conv1D(64, 5, activation='relu'),\n",
        "  tf.keras.layers.MaxPooling1D(pool_size=4),\n",
        "  tf.keras.layers.LSTM(64),\n",
        "  tf.keras.layers.Dense(1, activation='sigmoid')\n",
        "])\n",
        "model.compile(loss='binary_crossentropy', optimizer='adam', metrics=['accuracy'])\n",
        "model.summary()\n",
        "\n",
        "num_epochs = 50\n",
        "\n",
        "training_padded = np.array(training_sequences)\n",
        "training_labels = np.array(training_labels)\n",
        "testing_padded = np.array(test_sequences)\n",
        "testing_labels = np.array(test_labels)\n",
        "\n",
        "history = model.fit(training_padded, training_labels, epochs=num_epochs, validation_data=(testing_padded, testing_labels), verbose=2)"
      ],
      "execution_count": 10,
      "outputs": [
        {
          "output_type": "stream",
          "text": [
            "Model: \"sequential\"\n",
            "_________________________________________________________________\n",
            "Layer (type)                 Output Shape              Param #   \n",
            "=================================================================\n",
            "embedding (Embedding)        (None, 16, 100)           13900900  \n",
            "_________________________________________________________________\n",
            "dropout (Dropout)            (None, 16, 100)           0         \n",
            "_________________________________________________________________\n",
            "conv1d (Conv1D)              (None, 12, 64)            32064     \n",
            "_________________________________________________________________\n",
            "max_pooling1d (MaxPooling1D) (None, 3, 64)             0         \n",
            "_________________________________________________________________\n",
            "lstm (LSTM)                  (None, 64)                33024     \n",
            "_________________________________________________________________\n",
            "dense (Dense)                (None, 1)                 65        \n",
            "=================================================================\n",
            "Total params: 13,966,053\n",
            "Trainable params: 65,153\n",
            "Non-trainable params: 13,900,900\n",
            "_________________________________________________________________\n",
            "Epoch 1/50\n",
            "4500/4500 - 30s - loss: 0.5666 - accuracy: 0.7004 - val_loss: 0.5358 - val_accuracy: 0.7230\n",
            "Epoch 2/50\n",
            "4500/4500 - 29s - loss: 0.5286 - accuracy: 0.7310 - val_loss: 0.5093 - val_accuracy: 0.7429\n",
            "Epoch 3/50\n",
            "4500/4500 - 28s - loss: 0.5125 - accuracy: 0.7435 - val_loss: 0.5059 - val_accuracy: 0.7452\n",
            "Epoch 4/50\n",
            "4500/4500 - 29s - loss: 0.5005 - accuracy: 0.7510 - val_loss: 0.4992 - val_accuracy: 0.7493\n",
            "Epoch 5/50\n",
            "4500/4500 - 28s - loss: 0.4930 - accuracy: 0.7568 - val_loss: 0.4974 - val_accuracy: 0.7531\n",
            "Epoch 6/50\n",
            "4500/4500 - 30s - loss: 0.4856 - accuracy: 0.7612 - val_loss: 0.4951 - val_accuracy: 0.7553\n",
            "Epoch 7/50\n",
            "4500/4500 - 28s - loss: 0.4789 - accuracy: 0.7653 - val_loss: 0.5008 - val_accuracy: 0.7542\n",
            "Epoch 8/50\n",
            "4500/4500 - 28s - loss: 0.4742 - accuracy: 0.7675 - val_loss: 0.4949 - val_accuracy: 0.7575\n",
            "Epoch 9/50\n",
            "4500/4500 - 30s - loss: 0.4699 - accuracy: 0.7703 - val_loss: 0.4976 - val_accuracy: 0.7543\n",
            "Epoch 10/50\n",
            "4500/4500 - 29s - loss: 0.4654 - accuracy: 0.7737 - val_loss: 0.4961 - val_accuracy: 0.7571\n",
            "Epoch 11/50\n",
            "4500/4500 - 28s - loss: 0.4624 - accuracy: 0.7752 - val_loss: 0.4970 - val_accuracy: 0.7544\n",
            "Epoch 12/50\n",
            "4500/4500 - 28s - loss: 0.4602 - accuracy: 0.7776 - val_loss: 0.5180 - val_accuracy: 0.7448\n",
            "Epoch 13/50\n",
            "4500/4500 - 28s - loss: 0.4566 - accuracy: 0.7801 - val_loss: 0.4992 - val_accuracy: 0.7533\n",
            "Epoch 14/50\n",
            "4500/4500 - 28s - loss: 0.4547 - accuracy: 0.7805 - val_loss: 0.4994 - val_accuracy: 0.7546\n",
            "Epoch 15/50\n",
            "4500/4500 - 28s - loss: 0.4518 - accuracy: 0.7824 - val_loss: 0.5020 - val_accuracy: 0.7544\n",
            "Epoch 16/50\n",
            "4500/4500 - 28s - loss: 0.4518 - accuracy: 0.7821 - val_loss: 0.5003 - val_accuracy: 0.7510\n",
            "Epoch 17/50\n",
            "4500/4500 - 29s - loss: 0.4490 - accuracy: 0.7833 - val_loss: 0.5033 - val_accuracy: 0.7513\n",
            "Epoch 18/50\n",
            "4500/4500 - 28s - loss: 0.4469 - accuracy: 0.7848 - val_loss: 0.5063 - val_accuracy: 0.7506\n",
            "Epoch 19/50\n",
            "4500/4500 - 28s - loss: 0.4452 - accuracy: 0.7855 - val_loss: 0.5104 - val_accuracy: 0.7536\n",
            "Epoch 20/50\n",
            "4500/4500 - 28s - loss: 0.4433 - accuracy: 0.7872 - val_loss: 0.5041 - val_accuracy: 0.7509\n",
            "Epoch 21/50\n",
            "4500/4500 - 28s - loss: 0.4425 - accuracy: 0.7880 - val_loss: 0.5084 - val_accuracy: 0.7536\n",
            "Epoch 22/50\n",
            "4500/4500 - 27s - loss: 0.4428 - accuracy: 0.7880 - val_loss: 0.5067 - val_accuracy: 0.7493\n",
            "Epoch 23/50\n",
            "4500/4500 - 27s - loss: 0.4414 - accuracy: 0.7884 - val_loss: 0.5046 - val_accuracy: 0.7507\n",
            "Epoch 24/50\n",
            "4500/4500 - 27s - loss: 0.4403 - accuracy: 0.7896 - val_loss: 0.5092 - val_accuracy: 0.7521\n",
            "Epoch 25/50\n",
            "4500/4500 - 28s - loss: 0.4391 - accuracy: 0.7897 - val_loss: 0.5074 - val_accuracy: 0.7563\n",
            "Epoch 26/50\n",
            "4500/4500 - 28s - loss: 0.4373 - accuracy: 0.7899 - val_loss: 0.5137 - val_accuracy: 0.7513\n",
            "Epoch 27/50\n",
            "4500/4500 - 28s - loss: 0.4370 - accuracy: 0.7922 - val_loss: 0.5091 - val_accuracy: 0.7528\n",
            "Epoch 28/50\n",
            "4500/4500 - 30s - loss: 0.4367 - accuracy: 0.7916 - val_loss: 0.5101 - val_accuracy: 0.7519\n",
            "Epoch 29/50\n",
            "4500/4500 - 29s - loss: 0.4351 - accuracy: 0.7915 - val_loss: 0.5134 - val_accuracy: 0.7494\n",
            "Epoch 30/50\n",
            "4500/4500 - 28s - loss: 0.4346 - accuracy: 0.7924 - val_loss: 0.5146 - val_accuracy: 0.7496\n",
            "Epoch 31/50\n",
            "4500/4500 - 31s - loss: 0.4344 - accuracy: 0.7937 - val_loss: 0.5163 - val_accuracy: 0.7511\n",
            "Epoch 32/50\n",
            "4500/4500 - 28s - loss: 0.4336 - accuracy: 0.7935 - val_loss: 0.5182 - val_accuracy: 0.7481\n",
            "Epoch 33/50\n",
            "4500/4500 - 28s - loss: 0.4334 - accuracy: 0.7931 - val_loss: 0.5179 - val_accuracy: 0.7494\n",
            "Epoch 34/50\n",
            "4500/4500 - 28s - loss: 0.4329 - accuracy: 0.7936 - val_loss: 0.5154 - val_accuracy: 0.7469\n",
            "Epoch 35/50\n",
            "4500/4500 - 28s - loss: 0.4323 - accuracy: 0.7948 - val_loss: 0.5171 - val_accuracy: 0.7486\n",
            "Epoch 36/50\n",
            "4500/4500 - 28s - loss: 0.4318 - accuracy: 0.7952 - val_loss: 0.5141 - val_accuracy: 0.7498\n",
            "Epoch 37/50\n",
            "4500/4500 - 29s - loss: 0.4308 - accuracy: 0.7948 - val_loss: 0.5132 - val_accuracy: 0.7477\n",
            "Epoch 38/50\n",
            "4500/4500 - 28s - loss: 0.4311 - accuracy: 0.7939 - val_loss: 0.5143 - val_accuracy: 0.7515\n",
            "Epoch 39/50\n",
            "4500/4500 - 28s - loss: 0.4322 - accuracy: 0.7952 - val_loss: 0.5154 - val_accuracy: 0.7438\n",
            "Epoch 40/50\n",
            "4500/4500 - 29s - loss: 0.4299 - accuracy: 0.7961 - val_loss: 0.5174 - val_accuracy: 0.7491\n",
            "Epoch 41/50\n",
            "4500/4500 - 28s - loss: 0.4304 - accuracy: 0.7953 - val_loss: 0.5130 - val_accuracy: 0.7501\n",
            "Epoch 42/50\n",
            "4500/4500 - 28s - loss: 0.4299 - accuracy: 0.7961 - val_loss: 0.5184 - val_accuracy: 0.7490\n",
            "Epoch 43/50\n",
            "4500/4500 - 29s - loss: 0.4312 - accuracy: 0.7944 - val_loss: 0.5201 - val_accuracy: 0.7459\n",
            "Epoch 44/50\n",
            "4500/4500 - 28s - loss: 0.4305 - accuracy: 0.7948 - val_loss: 0.5195 - val_accuracy: 0.7511\n",
            "Epoch 45/50\n",
            "4500/4500 - 28s - loss: 0.4286 - accuracy: 0.7955 - val_loss: 0.5174 - val_accuracy: 0.7489\n",
            "Epoch 46/50\n",
            "4500/4500 - 28s - loss: 0.4286 - accuracy: 0.7956 - val_loss: 0.5155 - val_accuracy: 0.7497\n",
            "Epoch 47/50\n",
            "4500/4500 - 29s - loss: 0.4259 - accuracy: 0.7974 - val_loss: 0.5298 - val_accuracy: 0.7436\n",
            "Epoch 48/50\n",
            "4500/4500 - 29s - loss: 0.4267 - accuracy: 0.7971 - val_loss: 0.5234 - val_accuracy: 0.7476\n",
            "Epoch 49/50\n",
            "4500/4500 - 28s - loss: 0.4278 - accuracy: 0.7972 - val_loss: 0.5186 - val_accuracy: 0.7444\n",
            "Epoch 50/50\n",
            "4500/4500 - 27s - loss: 0.4276 - accuracy: 0.7976 - val_loss: 0.5175 - val_accuracy: 0.7453\n"
          ],
          "name": "stdout"
        }
      ]
    },
    {
      "cell_type": "code",
      "metadata": {
        "id": "YS7bz5lA_NHQ",
        "colab_type": "code",
        "colab": {
          "base_uri": "https://localhost:8080/",
          "height": 609
        },
        "outputId": "5900daf2-5df2-482b-9f98-1682b88ead9c"
      },
      "source": [
        "import matplotlib.image  as mpimg\n",
        "import matplotlib.pyplot as plt\n",
        "\n",
        "#-----------------------------------------------------------\n",
        "# Retrieve a list of list results on training and test data\n",
        "# sets for each training epoch\n",
        "#-----------------------------------------------------------\n",
        "acc=history.history['accuracy']\n",
        "val_acc=history.history['val_accuracy']\n",
        "loss=history.history['loss']\n",
        "val_loss=history.history['val_loss']\n",
        "\n",
        "epochs=range(len(acc)) # Get number of epochs\n",
        "\n",
        "#------------------------------------------------\n",
        "# Plot training and validation accuracy per epoch\n",
        "#------------------------------------------------\n",
        "plt.plot(epochs, acc, 'r')\n",
        "plt.plot(epochs, val_acc, 'b')\n",
        "plt.title('Training and validation accuracy')\n",
        "plt.xlabel(\"Epochs\")\n",
        "plt.ylabel(\"Accuracy\")\n",
        "plt.legend([\"Accuracy\", \"Validation Accuracy\"])\n",
        "\n",
        "plt.figure()\n",
        "\n",
        "#------------------------------------------------\n",
        "# Plot training and validation loss per epoch\n",
        "#------------------------------------------------\n",
        "plt.plot(epochs, loss, 'r')\n",
        "plt.plot(epochs, val_loss, 'b')\n",
        "plt.title('Training and validation loss')\n",
        "plt.xlabel(\"Epochs\")\n",
        "plt.ylabel(\"Loss\")\n",
        "plt.legend([\"Loss\", \"Validation Loss\"])\n",
        "\n",
        "plt.figure()\n",
        "\n",
        "\n",
        "# Expected Output\n",
        "# A chart where the validation loss does not increase sharply!"
      ],
      "execution_count": 11,
      "outputs": [
        {
          "output_type": "execute_result",
          "data": {
            "text/plain": [
              "<Figure size 432x288 with 0 Axes>"
            ]
          },
          "metadata": {
            "tags": []
          },
          "execution_count": 11
        },
        {
          "output_type": "display_data",
          "data": {
            "image/png": "[encoded data removed]",
            "text/plain": [
              "<Figure size 432x288 with 1 Axes>"
            ]
          },
          "metadata": {
            "tags": [],
            "needs_background": "light"
          }
        },
        {
          "output_type": "display_data",
          "data": {
            "image/png": "[encoded data removed]",
            "text/plain": [
              "<Figure size 432x288 with 1 Axes>"
            ]
          },
          "metadata": {
            "tags": [],
            "needs_background": "light"
          }
        },
        {
          "output_type": "display_data",
          "data": {
            "text/plain": [
              "<Figure size 432x288 with 0 Axes>"
            ]
          },
          "metadata": {
            "tags": []
          }
        }
      ]
    },
    {
      "cell_type": "code",
      "metadata": {
        "id": "bmKlQLrUFFcm",
        "colab_type": "code",
        "colab": {}
      },
      "source": [
        ""
      ],
      "execution_count": null,
      "outputs": []
    }
  ]
}