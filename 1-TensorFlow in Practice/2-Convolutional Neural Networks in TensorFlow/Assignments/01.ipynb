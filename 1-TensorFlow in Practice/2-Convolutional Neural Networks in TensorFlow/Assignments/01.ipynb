{
  "nbformat": 4,
  "nbformat_minor": 0,
  "metadata": {
    "colab": {
      "name": "01.ipynb",
      "provenance": [],
      "collapsed_sections": []
    },
    "kernelspec": {
      "name": "python3",
      "display_name": "Python 3"
    },
    "accelerator": "GPU"
  },
  "cells": [
    {
      "cell_type": "code",
      "metadata": {
        "id": "6kNEi0IXKeez",
        "colab_type": "code",
        "colab": {}
      },
      "source": [
        "import os\n",
        "import zipfile\n",
        "import random\n",
        "import tensorflow as tf\n",
        "from tensorflow.keras.optimizers import RMSprop\n",
        "from tensorflow.keras.preprocessing.image import ImageDataGenerator\n",
        "from shutil import copyfile"
      ],
      "execution_count": 0,
      "outputs": []
    },
    {
      "cell_type": "code",
      "metadata": {
        "id": "gjA6KEkNMqty",
        "colab_type": "code",
        "outputId": "15a7fe8a-36d0-4bb8-f12e-59dcf2c7a22e",
        "colab": {
          "base_uri": "https://localhost:8080/",
          "height": 217
        }
      },
      "source": [
        "!wget --no-check-certificate \"https://download.microsoft.com/download/3/E/1/3E1C3F21-ECDB-4869-8368-6DEBA77B919F/kagglecatsanddogs_3367a.zip\" -O \"/tmp/cats-and-dogs.zip\""
      ],
      "execution_count": 2,
      "outputs": [
        {
          "output_type": "stream",
          "text": [
            "--2020-06-13 11:32:54--  https://download.microsoft.com/download/3/E/1/3E1C3F21-ECDB-4869-8368-6DEBA77B919F/kagglecatsanddogs_3367a.zip\n",
            "Resolving download.microsoft.com (download.microsoft.com)... 23.199.64.143, 2600:1417:7800:2b7::e59, 2600:1417:7800:298::e59, ...\n",
            "Connecting to download.microsoft.com (download.microsoft.com)|23.199.64.143|:443... connected.\n",
            "HTTP request sent, awaiting response... 200 OK\n",
            "Length: 824894548 (787M) [application/octet-stream]\n",
            "Saving to: ‘/tmp/cats-and-dogs.zip’\n",
            "\n",
            "/tmp/cats-and-dogs. 100%[===================>] 786.68M  22.2MB/s    in 37s     \n",
            "\n",
            "2020-06-13 11:33:31 (21.3 MB/s) - ‘/tmp/cats-and-dogs.zip’ saved [824894548/824894548]\n",
            "\n"
          ],
          "name": "stdout"
        }
      ]
    },
    {
      "cell_type": "code",
      "metadata": {
        "id": "Fe9T9P8ANNIC",
        "colab_type": "code",
        "colab": {}
      },
      "source": [
        "local_zip = '/tmp/cats-and-dogs.zip'\n",
        "zip_ref = zipfile.ZipFile(local_zip, 'r')\n",
        "zip_ref.extractall('/tmp')\n",
        "zip_ref.close()"
      ],
      "execution_count": 0,
      "outputs": []
    },
    {
      "cell_type": "code",
      "metadata": {
        "id": "J_EFg9GXNa5V",
        "colab_type": "code",
        "outputId": "9a4896ac-4283-4ea4-c92f-a1d2f807e4bf",
        "colab": {
          "base_uri": "https://localhost:8080/",
          "height": 54
        }
      },
      "source": [
        "print(len(os.listdir('/tmp/PetImages/Cat/')))\n",
        "print(len(os.listdir('/tmp/PetImages/Dog/')))"
      ],
      "execution_count": 4,
      "outputs": [
        {
          "output_type": "stream",
          "text": [
            "12501\n",
            "12501\n"
          ],
          "name": "stdout"
        }
      ]
    },
    {
      "cell_type": "code",
      "metadata": {
        "id": "kKbRn1ruNonn",
        "colab_type": "code",
        "colab": {}
      },
      "source": [
        "os.mkdir('/tmp/cats-v-dogs')\n",
        "os.mkdir('/tmp/cats-v-dogs/training')\n",
        "os.mkdir('/tmp/cats-v-dogs/training/cats')\n",
        "os.mkdir('/tmp/cats-v-dogs/training/dogs')\n",
        "os.mkdir('/tmp/cats-v-dogs/testing')\n",
        "os.mkdir('/tmp/cats-v-dogs/testing/cats')\n",
        "os.mkdir('/tmp/cats-v-dogs/testing/dogs')"
      ],
      "execution_count": 0,
      "outputs": []
    },
    {
      "cell_type": "code",
      "metadata": {
        "id": "vuEpoFGsOGIm",
        "colab_type": "code",
        "colab": {}
      },
      "source": [
        "def split_data(SOURCE, TRAINING, TESTING, SPLIT_SIZE):\n",
        "  import random\n",
        "  contents = os.listdir(SOURCE)\n",
        "  contents = [img for img in contents if os.path.getsize(SOURCE+img) > 0]\n",
        "  num_images = len(contents)\n",
        "  random.shuffle(contents)\n",
        "  num_training = int(num_images * SPLIT_SIZE)\n",
        "  for img in contents[:num_training]:\n",
        "      copyfile(SOURCE+img, TRAINING+img)\n",
        "  for img in contents[num_training:]:\n",
        "      copyfile(SOURCE+img, TESTING+img)\n",
        "\n",
        "CAT_SOURCE_DIR = \"/tmp/PetImages/Cat/\"\n",
        "TRAINING_CATS_DIR = \"/tmp/cats-v-dogs/training/cats/\"\n",
        "TESTING_CATS_DIR = \"/tmp/cats-v-dogs/testing/cats/\"\n",
        "DOG_SOURCE_DIR = \"/tmp/PetImages/Dog/\"\n",
        "TRAINING_DOGS_DIR = \"/tmp/cats-v-dogs/training/dogs/\"\n",
        "TESTING_DOGS_DIR = \"/tmp/cats-v-dogs/testing/dogs/\"\n",
        "\n",
        "split_size = .9\n",
        "split_data(CAT_SOURCE_DIR, TRAINING_CATS_DIR, TESTING_CATS_DIR, split_size)\n",
        "split_data(DOG_SOURCE_DIR, TRAINING_DOGS_DIR, TESTING_DOGS_DIR, split_size)"
      ],
      "execution_count": 0,
      "outputs": []
    },
    {
      "cell_type": "code",
      "metadata": {
        "id": "CGGIZD1dRX53",
        "colab_type": "code",
        "outputId": "cb33e14f-f2d2-49b8-f0ae-87dd7877eb9b",
        "colab": {
          "base_uri": "https://localhost:8080/",
          "height": 90
        }
      },
      "source": [
        "print(len(os.listdir('/tmp/cats-v-dogs/training/cats/')))\n",
        "print(len(os.listdir('/tmp/cats-v-dogs/training/dogs/')))\n",
        "print(len(os.listdir('/tmp/cats-v-dogs/testing/cats/')))\n",
        "print(len(os.listdir('/tmp/cats-v-dogs/testing/dogs/')))"
      ],
      "execution_count": 7,
      "outputs": [
        {
          "output_type": "stream",
          "text": [
            "11250\n",
            "11250\n",
            "1250\n",
            "1250\n"
          ],
          "name": "stdout"
        }
      ]
    },
    {
      "cell_type": "code",
      "metadata": {
        "id": "x0T2W1tVVTP5",
        "colab_type": "code",
        "colab": {}
      },
      "source": [
        "model = tf.keras.models.Sequential([\n",
        "        tf.keras.layers.Conv2D(32, (3,3), activation='relu', input_shape=(150,150,3)),\n",
        "        tf.keras.layers.MaxPool2D((2,2)),\n",
        "        tf.keras.layers.Conv2D(32, (3,3), activation='relu'),\n",
        "        tf.keras.layers.MaxPool2D((2,2)),\n",
        "        tf.keras.layers.Conv2D(16, (3,3), activation='relu'),\n",
        "        tf.keras.layers.MaxPool2D((2,2)),\n",
        "        tf.keras.layers.Conv2D(8, (3,3), activation='relu'),\n",
        "        tf.keras.layers.MaxPool2D((2,2)),\n",
        "        tf.keras.layers.Flatten(),\n",
        "        tf.keras.layers.Dense(128, activation='relu'),\n",
        "        tf.keras.layers.Dense(1, activation='sigmoid')\n",
        "])\n",
        "\n",
        "model.compile(optimizer = RMSprop(lr=0.001), loss='binary_crossentropy', metrics=['accuracy'])"
      ],
      "execution_count": 0,
      "outputs": []
    },
    {
      "cell_type": "code",
      "metadata": {
        "id": "mq3bOoNjWIar",
        "colab_type": "code",
        "outputId": "09633dd9-a93d-413b-dce0-705702a00c52",
        "colab": {
          "base_uri": "https://localhost:8080/",
          "height": 563
        }
      },
      "source": [
        "model.summary()"
      ],
      "execution_count": 9,
      "outputs": [
        {
          "output_type": "stream",
          "text": [
            "Model: \"sequential\"\n",
            "_________________________________________________________________\n",
            "Layer (type)                 Output Shape              Param #   \n",
            "=================================================================\n",
            "conv2d (Conv2D)              (None, 148, 148, 32)      896       \n",
            "_________________________________________________________________\n",
            "max_pooling2d (MaxPooling2D) (None, 74, 74, 32)        0         \n",
            "_________________________________________________________________\n",
            "conv2d_1 (Conv2D)            (None, 72, 72, 32)        9248      \n",
            "_________________________________________________________________\n",
            "max_pooling2d_1 (MaxPooling2 (None, 36, 36, 32)        0         \n",
            "_________________________________________________________________\n",
            "conv2d_2 (Conv2D)            (None, 34, 34, 16)        4624      \n",
            "_________________________________________________________________\n",
            "max_pooling2d_2 (MaxPooling2 (None, 17, 17, 16)        0         \n",
            "_________________________________________________________________\n",
            "conv2d_3 (Conv2D)            (None, 15, 15, 8)         1160      \n",
            "_________________________________________________________________\n",
            "max_pooling2d_3 (MaxPooling2 (None, 7, 7, 8)           0         \n",
            "_________________________________________________________________\n",
            "flatten (Flatten)            (None, 392)               0         \n",
            "_________________________________________________________________\n",
            "dense (Dense)                (None, 128)               50304     \n",
            "_________________________________________________________________\n",
            "dense_1 (Dense)              (None, 1)                 129       \n",
            "=================================================================\n",
            "Total params: 66,361\n",
            "Trainable params: 66,361\n",
            "Non-trainable params: 0\n",
            "_________________________________________________________________\n"
          ],
          "name": "stdout"
        }
      ]
    },
    {
      "cell_type": "code",
      "metadata": {
        "id": "rmZR_curWVqZ",
        "colab_type": "code",
        "outputId": "16eb9de8-10d5-4f3e-f864-50cd3ba9b620",
        "colab": {
          "base_uri": "https://localhost:8080/",
          "height": 54
        }
      },
      "source": [
        "TRAINING_DIR = '/tmp/cats-v-dogs/training/'\n",
        "training_datagen = ImageDataGenerator(rescale=1./255)\n",
        "train_generator = training_datagen.flow_from_directory(\n",
        "    TRAINING_DIR,\n",
        "    target_size=(150,150),\n",
        "    batch_size=32,\n",
        "    class_mode='binary'\n",
        ")\n",
        "\n",
        "TESTING_DIR = '/tmp/cats-v-dogs/testing/'\n",
        "testing_datagen = ImageDataGenerator(rescale=1./255)\n",
        "test_generator = testing_datagen.flow_from_directory(\n",
        "    TESTING_DIR,\n",
        "    target_size=(150,150),\n",
        "    batch_size=32,\n",
        "    class_mode='binary'\n",
        ")"
      ],
      "execution_count": 10,
      "outputs": [
        {
          "output_type": "stream",
          "text": [
            "Found 22498 images belonging to 2 classes.\n",
            "Found 2500 images belonging to 2 classes.\n"
          ],
          "name": "stdout"
        }
      ]
    },
    {
      "cell_type": "code",
      "metadata": {
        "id": "N_k_WSmqXSOb",
        "colab_type": "code",
        "outputId": "9f08ac6d-04be-41dc-fe45-6a2a71c4787b",
        "colab": {
          "base_uri": "https://localhost:8080/",
          "height": 874
        }
      },
      "source": [
        "history = model.fit(train_generator, epochs=15, verbose=1, validation_data=test_generator)"
      ],
      "execution_count": 11,
      "outputs": [
        {
          "output_type": "stream",
          "text": [
            "Epoch 1/15\n",
            "436/704 [=================>............] - ETA: 26s - loss: 0.6411 - accuracy: 0.6239"
          ],
          "name": "stdout"
        },
        {
          "output_type": "stream",
          "text": [
            "/usr/local/lib/python3.6/dist-packages/PIL/TiffImagePlugin.py:770: UserWarning: Possibly corrupt EXIF data.  Expecting to read 32 bytes but only got 0. Skipping tag 270\n",
            "  \" Skipping tag %s\" % (size, len(data), tag)\n",
            "/usr/local/lib/python3.6/dist-packages/PIL/TiffImagePlugin.py:770: UserWarning: Possibly corrupt EXIF data.  Expecting to read 5 bytes but only got 0. Skipping tag 271\n",
            "  \" Skipping tag %s\" % (size, len(data), tag)\n",
            "/usr/local/lib/python3.6/dist-packages/PIL/TiffImagePlugin.py:770: UserWarning: Possibly corrupt EXIF data.  Expecting to read 8 bytes but only got 0. Skipping tag 272\n",
            "  \" Skipping tag %s\" % (size, len(data), tag)\n",
            "/usr/local/lib/python3.6/dist-packages/PIL/TiffImagePlugin.py:770: UserWarning: Possibly corrupt EXIF data.  Expecting to read 8 bytes but only got 0. Skipping tag 282\n",
            "  \" Skipping tag %s\" % (size, len(data), tag)\n",
            "/usr/local/lib/python3.6/dist-packages/PIL/TiffImagePlugin.py:770: UserWarning: Possibly corrupt EXIF data.  Expecting to read 8 bytes but only got 0. Skipping tag 283\n",
            "  \" Skipping tag %s\" % (size, len(data), tag)\n",
            "/usr/local/lib/python3.6/dist-packages/PIL/TiffImagePlugin.py:770: UserWarning: Possibly corrupt EXIF data.  Expecting to read 20 bytes but only got 0. Skipping tag 306\n",
            "  \" Skipping tag %s\" % (size, len(data), tag)\n",
            "/usr/local/lib/python3.6/dist-packages/PIL/TiffImagePlugin.py:770: UserWarning: Possibly corrupt EXIF data.  Expecting to read 48 bytes but only got 0. Skipping tag 532\n",
            "  \" Skipping tag %s\" % (size, len(data), tag)\n",
            "/usr/local/lib/python3.6/dist-packages/PIL/TiffImagePlugin.py:788: UserWarning: Corrupt EXIF data.  Expecting to read 2 bytes but only got 0. \n",
            "  warnings.warn(str(msg))\n"
          ],
          "name": "stderr"
        },
        {
          "output_type": "stream",
          "text": [
            "704/704 [==============================] - 76s 108ms/step - loss: 0.6130 - accuracy: 0.6560 - val_loss: 0.5554 - val_accuracy: 0.7348\n",
            "Epoch 2/15\n",
            "704/704 [==============================] - 75s 106ms/step - loss: 0.5004 - accuracy: 0.7574 - val_loss: 0.4831 - val_accuracy: 0.7804\n",
            "Epoch 3/15\n",
            "704/704 [==============================] - 73s 104ms/step - loss: 0.4450 - accuracy: 0.7930 - val_loss: 0.4805 - val_accuracy: 0.7804\n",
            "Epoch 4/15\n",
            "704/704 [==============================] - 74s 105ms/step - loss: 0.3988 - accuracy: 0.8205 - val_loss: 0.4536 - val_accuracy: 0.8064\n",
            "Epoch 5/15\n",
            "704/704 [==============================] - 74s 105ms/step - loss: 0.3644 - accuracy: 0.8398 - val_loss: 0.3908 - val_accuracy: 0.8264\n",
            "Epoch 6/15\n",
            "704/704 [==============================] - 74s 105ms/step - loss: 0.3349 - accuracy: 0.8559 - val_loss: 0.3798 - val_accuracy: 0.8400\n",
            "Epoch 7/15\n",
            "704/704 [==============================] - 73s 104ms/step - loss: 0.3102 - accuracy: 0.8677 - val_loss: 0.3806 - val_accuracy: 0.8504\n",
            "Epoch 8/15\n",
            "704/704 [==============================] - 74s 105ms/step - loss: 0.2890 - accuracy: 0.8799 - val_loss: 0.3973 - val_accuracy: 0.8244\n",
            "Epoch 9/15\n",
            "704/704 [==============================] - 74s 106ms/step - loss: 0.2657 - accuracy: 0.8875 - val_loss: 0.3706 - val_accuracy: 0.8436\n",
            "Epoch 10/15\n",
            "704/704 [==============================] - 74s 105ms/step - loss: 0.2478 - accuracy: 0.8976 - val_loss: 0.4010 - val_accuracy: 0.8548\n",
            "Epoch 11/15\n",
            "704/704 [==============================] - 74s 105ms/step - loss: 0.2316 - accuracy: 0.9059 - val_loss: 0.3892 - val_accuracy: 0.8648\n",
            "Epoch 12/15\n",
            "704/704 [==============================] - 73s 104ms/step - loss: 0.2138 - accuracy: 0.9135 - val_loss: 0.3665 - val_accuracy: 0.8568\n",
            "Epoch 13/15\n",
            "704/704 [==============================] - 73s 104ms/step - loss: 0.1990 - accuracy: 0.9194 - val_loss: 0.4077 - val_accuracy: 0.8588\n",
            "Epoch 14/15\n",
            "704/704 [==============================] - 73s 103ms/step - loss: 0.1860 - accuracy: 0.9264 - val_loss: 0.4030 - val_accuracy: 0.8648\n",
            "Epoch 15/15\n",
            "704/704 [==============================] - 73s 103ms/step - loss: 0.1742 - accuracy: 0.9336 - val_loss: 0.5183 - val_accuracy: 0.8640\n"
          ],
          "name": "stdout"
        }
      ]
    },
    {
      "cell_type": "code",
      "metadata": {
        "id": "1JD-Exi9XfL2",
        "colab_type": "code",
        "colab": {
          "base_uri": "https://localhost:8080/",
          "height": 581
        },
        "outputId": "20aba023-665b-4fec-ddaa-a51015c64d50"
      },
      "source": [
        "%matplotlib inline\n",
        "import matplotlib.image as mpimg\n",
        "import matplotlib.pyplot as plt\n",
        "\n",
        "acc = history.history['accuracy']\n",
        "val_acc = history.history['val_accuracy']\n",
        "loss = history.history['loss']\n",
        "val_loss = history.history['val_loss']\n",
        "\n",
        "epochs = range(len(acc))\n",
        "\n",
        "plt.plot(epochs, acc, 'r', \"Training accuracy\")\n",
        "plt.plot(epochs, val_acc, 'b', \"Validation accuracy\")\n",
        "plt.title(\"Training vs Validation accuracy\")\n",
        "plt.figure()\n",
        "\n",
        "plt.plot(epochs, loss, 'r', \"Training loss\")\n",
        "plt.plot(epochs, val_loss, 'b', \"Validation loss\")\n",
        "plt.title(\"Training vs Validation loss\")\n",
        "plt.figure()"
      ],
      "execution_count": 12,
      "outputs": [
        {
          "output_type": "execute_result",
          "data": {
            "text/plain": [
              "<Figure size 432x288 with 0 Axes>"
            ]
          },
          "metadata": {
            "tags": []
          },
          "execution_count": 12
        },
        {
          "output_type": "display_data",
          "data": {
            "image/png": "[encoded data removed]",
            "text/plain": [
              "<Figure size 432x288 with 1 Axes>"
            ]
          },
          "metadata": {
            "tags": [],
            "needs_background": "light"
          }
        },
        {
          "output_type": "display_data",
          "data": {
            "image/png": "[encoded data removed]",
            "text/plain": [
              "<Figure size 432x288 with 1 Axes>"
            ]
          },
          "metadata": {
            "tags": [],
            "needs_background": "light"
          }
        },
        {
          "output_type": "display_data",
          "data": {
            "text/plain": [
              "<Figure size 432x288 with 0 Axes>"
            ]
          },
          "metadata": {
            "tags": []
          }
        }
      ]
    },
    {
      "cell_type": "code",
      "metadata": {
        "id": "bF1vYoHgiB_C",
        "colab_type": "code",
        "colab": {}
      },
      "source": [
        ""
      ],
      "execution_count": 0,
      "outputs": []
    }
  ]
}